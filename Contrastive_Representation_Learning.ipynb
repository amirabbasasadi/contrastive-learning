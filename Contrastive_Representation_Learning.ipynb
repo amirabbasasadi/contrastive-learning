{
  "nbformat": 4,
  "nbformat_minor": 0,
  "metadata": {
    "colab": {
      "name": "Contrastive Representation Learning.ipynb",
      "provenance": [],
      "collapsed_sections": []
    },
    "kernelspec": {
      "name": "python3",
      "display_name": "Python 3"
    },
    "language_info": {
      "name": "python"
    }
  },
  "cells": [
    {
      "cell_type": "markdown",
      "source": [
        "# Contrastive Representation Learning\n",
        "Amirabbas Asadi  \n",
        "Implemented Based on:\n",
        " - Simple Framework for Contrastive Learning of Visual Representations, Ting Chen and Simon Kornblith and Mohammad Norouzi and Geoffrey Hinton"
      ],
      "metadata": {
        "id": "rAEIm3jDLHeo"
      }
    },
    {
      "cell_type": "code",
      "execution_count": 4,
      "metadata": {
        "id": "pbH4eVEeHruP"
      },
      "outputs": [],
      "source": [
        "import torch\n",
        "from torch import nn"
      ]
    },
    {
      "cell_type": "markdown",
      "source": [
        "## Preparing the dataset and augmentation pipeline"
      ],
      "metadata": {
        "id": "BWXDXHOELBQ8"
      }
    },
    {
      "cell_type": "code",
      "source": [
        "from torch.utils.data import Dataset\n",
        "from torchvision.datasets import MNIST\n",
        "from torchvision.transforms import RandomAffine\n",
        "from torchvision.transforms import RandomPerspective\n",
        "from torchvision.transforms import GaussianBlur\n",
        "from torchvision.transforms import ToTensor\n",
        "from torchvision.transforms import Compose, RandomApply\n",
        "\n",
        "\n",
        "class ContrastiveMNIST(Dataset):\n",
        "  def __init__(self):\n",
        "    self.mnist = MNIST('./mnist', download=True)\n",
        "\n",
        "    self.augmentations = Compose([RandomApply([\n",
        "                                  RandomPerspective(),\n",
        "                                  RandomAffine(degrees=(-30, 30)),\n",
        "                                  GaussianBlur(kernel_size=3)], p=0.7),\n",
        "                                  ToTensor()])\n",
        "  def __len__(self):\n",
        "    return len(self.mnist)\n",
        "  \n",
        "  def __getitem__(self, index):    \n",
        "    original, _ = self.mnist[index]\n",
        "    t1 = self.augmentations(original)\n",
        "    t2 = self.augmentations(original)\n",
        "    return t1, t2"
      ],
      "metadata": {
        "id": "CKmkViTgH0BV"
      },
      "execution_count": 5,
      "outputs": []
    },
    {
      "cell_type": "code",
      "source": [
        "from torch.utils.data import DataLoader\n",
        "\n",
        "batch_size = 64\n",
        "dataset = ContrastiveMNIST()\n",
        "dataloader = DataLoader(dataset, batch_size=batch_size)"
      ],
      "metadata": {
        "id": "s76B0_FlIBSY"
      },
      "execution_count": null,
      "outputs": []
    },
    {
      "cell_type": "code",
      "source": [
        "class SimCLR(nn.Module):\n",
        "  def __init__(self, h_dim=64, z_dim=8, tau=1.0):\n",
        "    super().__init__()\n",
        "\n",
        "    self.encoder = nn.Sequential(nn.Conv2d(1, 8, 3),\n",
        "                                 nn.SiLU(),\n",
        "                                 nn.MaxPool2d(2),\n",
        "                                 nn.Conv2d(8, 16, 3),\n",
        "                                 nn.SiLU(),\n",
        "                                 nn.MaxPool2d(2),\n",
        "                                 nn.Flatten(),\n",
        "                                 nn.LazyLinear(h_dim),\n",
        "                                 nn.SiLU(),\n",
        "                                 nn.Linear(h_dim, h_dim),\n",
        "                                 nn.SiLU())\n",
        "\n",
        "    self.projection_head = nn.Sequential(nn.Linear(h_dim, z_dim),\n",
        "                                         nn.SiLU(),\n",
        "                                         nn.Linear(z_dim, z_dim))\n",
        "    self.tau = tau\n",
        "\n",
        "  def contrastive_loss(self, t1, t2):\n",
        "    t = torch.vstack([t1, t2])\n",
        "    h = self.encoder(t)\n",
        "    z = self.projection_head(h)\n",
        "    z_norm = z / z.norm(dim=1).unsqueeze(1)\n",
        "    S = torch.mm(z_norm, z_norm.transpose(0,1)) / self.tau\n",
        "    S.fill_diagonal_(0.0)\n",
        "    L = -nn.functional.log_softmax(S, dim=1)\n",
        "    L1 = torch.diag(L[:batch_size, batch_size:]).mean()\n",
        "    L2 = torch.diag(L[batch_size:, :batch_size]).mean()\n",
        "    loss = 0.5*(L1 + L2)\n",
        "    return loss"
      ],
      "metadata": {
        "id": "C18V2W5uH2OD"
      },
      "execution_count": 7,
      "outputs": []
    },
    {
      "cell_type": "markdown",
      "source": [
        "## Training the model"
      ],
      "metadata": {
        "id": "AfQxpli0K7-h"
      }
    },
    {
      "cell_type": "code",
      "source": [
        "model = SimCLR(h_dim=32, z_dim=16)"
      ],
      "metadata": {
        "id": "7wkHq3C0H9Bw"
      },
      "execution_count": null,
      "outputs": []
    },
    {
      "cell_type": "code",
      "source": [
        "optimizer = torch.optim.Adam(model.parameters(), lr=0.002)"
      ],
      "metadata": {
        "id": "mxOZJe-IICH1"
      },
      "execution_count": 9,
      "outputs": []
    },
    {
      "cell_type": "code",
      "source": [
        "epochs = 16\n",
        "for epoch in range(epochs):\n",
        "  for i, (t1, t2) in enumerate(dataloader):\n",
        "    optimizer.zero_grad()\n",
        "    loss = model.contrastive_loss(t1, t2)\n",
        "    loss.backward()\n",
        "    optimizer.step()\n",
        "    print(loss.item())"
      ],
      "metadata": {
        "id": "e5xAOoP2KDrc"
      },
      "execution_count": null,
      "outputs": []
    },
    {
      "cell_type": "markdown",
      "source": [
        "## Visualizing the latent space"
      ],
      "metadata": {
        "id": "MnI5NnBtKecf"
      }
    },
    {
      "cell_type": "code",
      "source": [
        "class MNISTShowcase(Dataset):\n",
        "  def __init__(self):\n",
        "    self.mnist = MNIST('./mnist', train=False)\n",
        "    self.to_tensor = ToTensor()\n",
        "  def __len__(self):\n",
        "    return len(self.mnist)\n",
        "  \n",
        "  def __getitem__(self, index):    \n",
        "    item, l = self.mnist[index]\n",
        "    item = self.to_tensor(item)\n",
        "    return item, l\n",
        "\n",
        "mnist = MNISTShowcase()\n",
        "mnist_loader = DataLoader(mnist, batch_size=1024, shuffle=True)"
      ],
      "metadata": {
        "id": "l4x05SGbKYre"
      },
      "execution_count": 11,
      "outputs": []
    },
    {
      "cell_type": "code",
      "source": [
        "sample, labels = iter(mnist_loader).next()"
      ],
      "metadata": {
        "id": "1pdyJJxCKirt"
      },
      "execution_count": 12,
      "outputs": []
    },
    {
      "cell_type": "code",
      "source": [
        "from sklearn.manifold import TSNE\n",
        "import matplotlib.pyplot as plt\n",
        "\n",
        "with torch.no_grad():\n",
        "  latent = model.encoder(sample)\n",
        "\n",
        "tsne = TSNE()\n",
        "z = tsne.fit_transform(latent.detach().numpy())"
      ],
      "metadata": {
        "id": "GbXTtHu0KkuW"
      },
      "execution_count": null,
      "outputs": []
    },
    {
      "cell_type": "code",
      "source": [
        "def plot_representation(z, labels):\n",
        "  plt.figure(figsize=(12, 8))\n",
        "  plt.set_cmap(\"tab10\")\n",
        "  l = labels.numpy()\n",
        "  for i in range(10):\n",
        "    selected = z[l==i]\n",
        "    plt.scatter(selected[:, 0], selected[:, 1], label=str(i))\n",
        "\n",
        "  plt.legend()\n",
        "  _ = plt.show()"
      ],
      "metadata": {
        "id": "owYRSFlqKme1"
      },
      "execution_count": 15,
      "outputs": []
    },
    {
      "cell_type": "code",
      "source": [
        "plot_representation(z, labels)"
      ],
      "metadata": {
        "id": "kabU-sQ4Kole"
      },
      "execution_count": null,
      "outputs": []
    }
  ]
}